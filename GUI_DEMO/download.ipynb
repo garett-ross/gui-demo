{
 "cells": [
  {
   "cell_type": "code",
   "execution_count": 56,
   "metadata": {},
   "outputs": [],
   "source": [
    "import pyautogui as gui\n",
    "import time\n",
    "import pandas as pd"
   ]
  },
  {
   "cell_type": "code",
   "execution_count": 57,
   "metadata": {},
   "outputs": [
    {
     "data": {
      "text/plain": [
       "<__main__.clickButton at 0x1b39321be10>"
      ]
     },
     "execution_count": 57,
     "metadata": {},
     "output_type": "execute_result"
    }
   ],
   "source": [
    "search = \"images/search.png\"\n",
    "class clickButton():\n",
    "    def __init__(self, buttonSource):\n",
    "        self.buttonSource = buttonSource\n",
    "        self.buttonCoord = gui.locateOnScreen(buttonSource)\n",
    "        self.click = gui.click(gui.center(self.buttonCoord))\n",
    "\n",
    "clickButton(buttonSource=search)"
   ]
  },
  {
   "cell_type": "code",
   "execution_count": 58,
   "metadata": {},
   "outputs": [],
   "source": [
    "gui.write(\"run\",0.2)\n",
    "gui.press(\"enter\")\n",
    "time.sleep(1)\n",
    "gui.press(\"backspace\")\n",
    "time.sleep(1)\n",
    "gui.write(\"msedge.exe\",0.2)\n",
    "gui.press(\"enter\")\n",
    "time.sleep(3)\n"
   ]
  },
  {
   "cell_type": "code",
   "execution_count": 59,
   "metadata": {},
   "outputs": [],
   "source": [
    "url = \"https://finance.yahoo.com/quote/BTC-USD/history/\"\n",
    "gui.write(url,0.2)\n",
    "gui.press(\"enter\")\n",
    "time.sleep(5)"
   ]
  },
  {
   "cell_type": "code",
   "execution_count": 60,
   "metadata": {},
   "outputs": [],
   "source": [
    "download = \"images/dnld.png\"\n",
    "clickButton(download)\n",
    "time.sleep(3)"
   ]
  },
  {
   "cell_type": "code",
   "execution_count": null,
   "metadata": {},
   "outputs": [],
   "source": [
    "csv = pd.read_csv(r\"C:\\\\Users\\\\Garett\\\\Downloads\\\\BTC-USD.csv\")\n",
    "df = pd.DataFrame(csv)\n",
    "df"
   ]
  }
 ],
 "metadata": {
  "kernelspec": {
   "display_name": "Python 3",
   "language": "python",
   "name": "python3"
  },
  "language_info": {
   "codemirror_mode": {
    "name": "ipython",
    "version": 3
   },
   "file_extension": ".py",
   "mimetype": "text/x-python",
   "name": "python",
   "nbconvert_exporter": "python",
   "pygments_lexer": "ipython3",
   "version": "3.11.5"
  },
  "orig_nbformat": 4
 },
 "nbformat": 4,
 "nbformat_minor": 2
}
